{
 "cells": [
  {
   "cell_type": "code",
   "execution_count": 1,
   "metadata": {},
   "outputs": [
    {
     "name": "stdout",
     "output_type": "stream",
     "text": [
      "Mon Mar 25 16:27:48 2019       \n",
      "+-----------------------------------------------------------------------------+\n",
      "| NVIDIA-SMI 418.25       Driver Version: 418.25       CUDA Version: 10.1     |\n",
      "|-------------------------------+----------------------+----------------------+\n",
      "| GPU  Name        Persistence-M| Bus-Id        Disp.A | Volatile Uncorr. ECC |\n",
      "| Fan  Temp  Perf  Pwr:Usage/Cap|         Memory-Usage | GPU-Util  Compute M. |\n",
      "|===============================+======================+======================|\n",
      "|   0  Tesla V100-SXM2...  On   | 00000000:06:00.0 Off |                    0 |\n",
      "| N/A   32C    P0    44W / 300W |      0MiB / 32480MiB |      0%      Default |\n",
      "+-------------------------------+----------------------+----------------------+\n",
      "|   1  Tesla V100-SXM2...  On   | 00000000:07:00.0 Off |                    0 |\n",
      "| N/A   34C    P0    44W / 300W |      0MiB / 32480MiB |      0%      Default |\n",
      "+-------------------------------+----------------------+----------------------+\n",
      "|   2  Tesla V100-SXM2...  On   | 00000000:0A:00.0 Off |                    0 |\n",
      "| N/A   34C    P0    42W / 300W |      0MiB / 32480MiB |      0%      Default |\n",
      "+-------------------------------+----------------------+----------------------+\n",
      "|   3  Tesla V100-SXM2...  On   | 00000000:0B:00.0 Off |                    0 |\n",
      "| N/A   33C    P0    42W / 300W |      0MiB / 32480MiB |      0%      Default |\n",
      "+-------------------------------+----------------------+----------------------+\n",
      "|   4  Tesla V100-SXM2...  On   | 00000000:85:00.0 Off |                    0 |\n",
      "| N/A   35C    P0    41W / 300W |      0MiB / 32480MiB |      0%      Default |\n",
      "+-------------------------------+----------------------+----------------------+\n",
      "|   5  Tesla V100-SXM2...  On   | 00000000:86:00.0 Off |                    0 |\n",
      "| N/A   35C    P0    42W / 300W |      0MiB / 32480MiB |      0%      Default |\n",
      "+-------------------------------+----------------------+----------------------+\n",
      "|   6  Tesla V100-SXM2...  On   | 00000000:89:00.0 Off |                    0 |\n",
      "| N/A   37C    P0    46W / 300W |      0MiB / 32480MiB |      0%      Default |\n",
      "+-------------------------------+----------------------+----------------------+\n",
      "|   7  Tesla V100-SXM2...  On   | 00000000:8A:00.0 Off |                    0 |\n",
      "| N/A   33C    P0    41W / 300W |      0MiB / 32480MiB |      0%      Default |\n",
      "+-------------------------------+----------------------+----------------------+\n",
      "                                                                               \n",
      "+-----------------------------------------------------------------------------+\n",
      "| Processes:                                                       GPU Memory |\n",
      "|  GPU       PID   Type   Process name                             Usage      |\n",
      "|=============================================================================|\n",
      "|  No running processes found                                                 |\n",
      "+-----------------------------------------------------------------------------+\n"
     ]
    }
   ],
   "source": [
    "!nvidia-smi"
   ]
  },
  {
   "cell_type": "code",
   "execution_count": 2,
   "metadata": {},
   "outputs": [
    {
     "name": "stdout",
     "output_type": "stream",
     "text": [
      "NumPy Version: 1.15.4\n",
      "Pandas Version: 0.23.4\n"
     ]
    }
   ],
   "source": [
    "import numpy as np; print('NumPy Version:', np.__version__)\n",
    "import os\n",
    "import pandas as pd; print('Pandas Version:', pd.__version__)"
   ]
  },
  {
   "cell_type": "code",
   "execution_count": 3,
   "metadata": {},
   "outputs": [],
   "source": [
    "SIMULATE = True\n",
    "n_partitions = 16\n",
    "n_rows = 10000\n",
    "n_features = 10\n",
    "rows_per_partition = n_rows / n_partitions"
   ]
  },
  {
   "cell_type": "code",
   "execution_count": 4,
   "metadata": {},
   "outputs": [],
   "source": [
    "if SIMULATE:\n",
    "    categories = [8000] + [i + 2 for i in range(n_features - 1)]\n",
    "    df = pd.DataFrame()\n",
    "    df['y'] = np.random.normal(size=(n_rows))\n",
    "    column_names = ['x' + str(i + 1) for i in range(n_features)]\n",
    "    for n_categories, column_name in zip(categories, column_names):\n",
    "        df[column_name] = np.random.randint(0, n_categories, size=(n_rows))\n",
    "else:\n",
    "    filename = 'foo.csv'\n",
    "    data_path = '/data'\n",
    "    df = pd.read_csv(os.path.join(data_path, filename))\n",
    "prepped_path = os.path.join('.')"
   ]
  },
  {
   "cell_type": "code",
   "execution_count": 5,
   "metadata": {},
   "outputs": [
    {
     "name": "stdout",
     "output_type": "stream",
     "text": [
      "(10000, 11)\n",
      "          y    x1  x2  x3  x4  x5  x6  x7  x8  x9  x10\n",
      "0 -3.279260   785   1   0   1   3   4   3   7   1    2\n",
      "1  0.318339   809   1   0   3   3   0   2   6   6    0\n",
      "2  0.219383   297   1   0   1   1   3   2   2   0    8\n",
      "3  1.115959  2007   0   0   0   3   5   5   0   4    1\n",
      "4 -0.948642  3858   0   1   2   2   1   3   1   3    2\n",
      "Index(['y', 'x1', 'x2', 'x3', 'x4', 'x5', 'x6', 'x7', 'x8', 'x9', 'x10'], dtype='object')\n"
     ]
    }
   ],
   "source": [
    "print(df.shape)\n",
    "print(df.head())\n",
    "print(df.columns)"
   ]
  },
  {
   "cell_type": "code",
   "execution_count": 6,
   "metadata": {},
   "outputs": [
    {
     "name": "stdout",
     "output_type": "stream",
     "text": [
      "Writing dataset of shape: (10000, 11) to: ./chunk-0.csv\n",
      "Writing dataset of shape: (10000, 11) to: ./chunk-1.csv\n",
      "Writing dataset of shape: (10000, 11) to: ./chunk-2.csv\n",
      "Writing dataset of shape: (10000, 11) to: ./chunk-3.csv\n",
      "Writing dataset of shape: (10000, 11) to: ./chunk-4.csv\n",
      "Writing dataset of shape: (10000, 11) to: ./chunk-5.csv\n",
      "Writing dataset of shape: (10000, 11) to: ./chunk-6.csv\n",
      "Writing dataset of shape: (10000, 11) to: ./chunk-7.csv\n",
      "Writing dataset of shape: (10000, 11) to: ./chunk-8.csv\n",
      "Writing dataset of shape: (10000, 11) to: ./chunk-9.csv\n",
      "Writing dataset of shape: (10000, 11) to: ./chunk-10.csv\n",
      "Writing dataset of shape: (10000, 11) to: ./chunk-11.csv\n",
      "Writing dataset of shape: (10000, 11) to: ./chunk-12.csv\n",
      "Writing dataset of shape: (10000, 11) to: ./chunk-13.csv\n",
      "Writing dataset of shape: (10000, 11) to: ./chunk-14.csv\n",
      "Writing dataset of shape: (10000, 11) to: ./chunk-15.csv\n"
     ]
    }
   ],
   "source": [
    "for n_partition in range(n_partitions):\n",
    "    #start_index = int(n_partition * rows_per_partition)\n",
    "    #end_index = int((n_partition + 1) * rows_per_partition)\n",
    "    #subset = df.iloc[start_index:end_index, :]\n",
    "    subset = df\n",
    "    filename = 'chunk-{}.csv'.format(n_partition)\n",
    "    path = os.path.join(prepped_path, filename)\n",
    "    print('Writing dataset of shape:', subset.shape, 'to:', path)\n",
    "    subset.to_csv(path, index=False)"
   ]
  },
  {
   "cell_type": "code",
   "execution_count": 7,
   "metadata": {},
   "outputs": [
    {
     "name": "stdout",
     "output_type": "stream",
     "text": [
      "cuDF Version: 0.6.0.dev0+1690.g3a8dc23d\n",
      "Dask Version: 1.1.1\n",
      "Dask cuDF Version: 0.6.0.dev0+1690.g3a8dc23d\n"
     ]
    },
    {
     "name": "stderr",
     "output_type": "stream",
     "text": [
      "/conda/envs/rapids/lib/python3.7/site-packages/dask/config.py:168: YAMLLoadWarning: calling yaml.load() without Loader=... is deprecated, as the default Loader is unsafe. Please read https://msg.pyyaml.org/load for full details.\n",
      "  data = yaml.load(f.read()) or {}\n",
      "/conda/envs/rapids/lib/python3.7/site-packages/distributed/config.py:20: YAMLLoadWarning: calling yaml.load() without Loader=... is deprecated, as the default Loader is unsafe. Please read https://msg.pyyaml.org/load for full details.\n",
      "  defaults = yaml.load(f)\n"
     ]
    },
    {
     "name": "stdout",
     "output_type": "stream",
     "text": [
      "Dask XGBoost Version: 0.1.5\n",
      "XGBoost Version: 0.81\n"
     ]
    }
   ],
   "source": [
    "import cudf; print('cuDF Version:', cudf.__version__)\n",
    "import dask; print('Dask Version:', dask.__version__)\n",
    "import dask_cudf; print('Dask cuDF Version:', dask_cudf.__version__)\n",
    "import dask_cuda  # ; print('Dask CUDA Version:', dask_cuda.__version__)\n",
    "from dask_cuda import LocalCUDACluster\n",
    "from dask.delayed import delayed\n",
    "from dask.distributed import Client, wait\n",
    "import dask_xgboost as dxgb_gpu; print('Dask XGBoost Version:', dxgb_gpu.__version__)\n",
    "import time\n",
    "import xgboost as xgb; print('XGBoost Version:', xgb.__version__)"
   ]
  },
  {
   "cell_type": "code",
   "execution_count": 8,
   "metadata": {},
   "outputs": [],
   "source": [
    "cluster = LocalCUDACluster()\n",
    "client = Client(cluster)"
   ]
  },
  {
   "cell_type": "code",
   "execution_count": 9,
   "metadata": {},
   "outputs": [],
   "source": [
    "def read_csv(filepath):\n",
    "    column_dtypes = ['float'] + n_features * ['int']\n",
    "    column_names = ['y'] + ['x' + str(i + 1) for i in range(n_features)]\n",
    "    gdf = cudf.read_csv(filepath, names=column_names, dtype=column_dtypes, skiprows=1)\n",
    "    return gdf\n",
    "\n",
    "\n",
    "def get_dummies(gdf):\n",
    "    numerical_columns = ['y']\n",
    "    output = gdf[numerical_columns]\n",
    "    for column in numerical_columns:\n",
    "        output[column] = output[column].astype('float32')\n",
    "    \n",
    "    categorical_columns = ['x' + str(i + 1) for i in range(n_features)]\n",
    "    for column in categorical_columns:\n",
    "        codes = gdf[column].unique()\n",
    "        temp = gdf[[column]].one_hot_encoding(column, column, codes, prefix_sep='_', dtype='int8')\n",
    "        del codes\n",
    "        temp = temp.drop(column)\n",
    "        output = cudf.multi.concat([output, temp], axis=1)\n",
    "        del temp\n",
    "    del gdf\n",
    "    return output\n",
    "\n",
    "\n",
    "def make_features(gdf):\n",
    "    column_names = gdf.columns\n",
    "    return gdf.loc[:, column_names[1:]]\n",
    "\n",
    "\n",
    "def make_labels(gdf):\n",
    "    column_names = gdf.columns\n",
    "    return gdf.loc[:, column_names[:1]]"
   ]
  },
  {
   "cell_type": "code",
   "execution_count": 10,
   "metadata": {},
   "outputs": [],
   "source": [
    "prepped_path = '.'\n",
    "n_workers = n_partitions\n",
    "\n",
    "# dask + cudf\n",
    "filepaths = [os.path.join(prepped_path, 'chunk-{}.csv'.format(i)) for i in range(n_workers)]\n",
    "gdfs = [delayed(read_csv)(filepath) for filepath in filepaths]\n",
    "\n",
    "# dask_cudf\n",
    "# pattern = 'chunk-*.csv'\n",
    "# gdfs = dask_cudf.read_csv(os.path.join(prepped_path, pattern))"
   ]
  },
  {
   "cell_type": "code",
   "execution_count": 11,
   "metadata": {},
   "outputs": [],
   "source": [
    "# dask + cudf\n",
    "gdfs = [delayed(get_dummies)(gdf) for gdf in gdfs]\n",
    "\n",
    "# dask_cudf\n",
    "# categorical_columns = ['x' + str(i) for i range()]\n",
    "# print(gdfs.one_hot_encoding('x1').compute())"
   ]
  },
  {
   "cell_type": "code",
   "execution_count": 12,
   "metadata": {},
   "outputs": [],
   "source": [
    "# dask + cudf\n",
    "gdfs = [[delayed(make_features)(gdf), delayed(make_labels)(gdf)] for gdf in gdfs]"
   ]
  },
  {
   "cell_type": "code",
   "execution_count": 13,
   "metadata": {},
   "outputs": [],
   "source": [
    "# dask + cudf\n",
    "gdfs = [delayed(xgb.DMatrix)(gdf[0], gdf[1]) for gdf in gdfs]"
   ]
  },
  {
   "cell_type": "code",
   "execution_count": 14,
   "metadata": {},
   "outputs": [],
   "source": [
    "# results = client.compute(gdfs, optimize_graph=False, fifo_timeout=\"0ms\")\n",
    "# time.sleep(1)  # this will give Dask time to execute each worker\n",
    "# output = [result.result() for result in results]\n",
    "# print(output[0])"
   ]
  },
  {
   "cell_type": "code",
   "execution_count": 15,
   "metadata": {},
   "outputs": [
    {
     "data": {
      "text/plain": [
       "DoneAndNotDoneFutures(done=set(), not_done=set())"
      ]
     },
     "execution_count": 15,
     "metadata": {},
     "output_type": "execute_result"
    }
   ],
   "source": [
    "wait(gdfs)"
   ]
  },
  {
   "cell_type": "code",
   "execution_count": 16,
   "metadata": {},
   "outputs": [],
   "source": [
    "dxgb_gpu_params = {\n",
    "    'nround':            50,\n",
    "    'max_depth':         8,\n",
    "    'max_leaves':        2**8,\n",
    "    'alpha':             0.9,\n",
    "    'eta':               0.1,\n",
    "    'gamma':             0.1,\n",
    "    'learning_rate':     0.1,\n",
    "    'subsample':         1,\n",
    "    'reg_lambda':        1,\n",
    "    'scale_pos_weight':  2,\n",
    "    'min_child_weight':  30,\n",
    "    'tree_method':       'gpu_hist',\n",
    "    'n_gpus':            1,\n",
    "    'distributed_dask':  True,\n",
    "    'loss':              'ls',\n",
    "    'objective':         'reg:linear',\n",
    "    'max_features':      'auto',\n",
    "    'criterion':         'friedman_mse',\n",
    "    'grow_policy':       'lossguide',\n",
    "    'verbose':           True\n",
    "}"
   ]
  },
  {
   "cell_type": "code",
   "execution_count": 17,
   "metadata": {},
   "outputs": [
    {
     "name": "stdout",
     "output_type": "stream",
     "text": [
      "Starting to train...\n",
      "CPU times: user 5.52 s, sys: 1.23 s, total: 6.75 s\n",
      "Wall time: 1min 34s\n"
     ]
    }
   ],
   "source": [
    "%%time\n",
    "\n",
    "\n",
    "print('Starting to train...')\n",
    "labels = None\n",
    "bst = dxgb_gpu.train(client, dxgb_gpu_params, gdfs, labels, num_boost_round=dxgb_gpu_params['nround'])"
   ]
  },
  {
   "cell_type": "code",
   "execution_count": 18,
   "metadata": {},
   "outputs": [
    {
     "name": "stdout",
     "output_type": "stream",
     "text": [
      "<xgboost.core.Booster object at 0x7f61002aecf8>\n"
     ]
    }
   ],
   "source": [
    "print(bst)"
   ]
  }
 ],
 "metadata": {
  "kernelspec": {
   "display_name": "Python 3",
   "language": "python",
   "name": "python3"
  },
  "language_info": {
   "codemirror_mode": {
    "name": "ipython",
    "version": 3
   },
   "file_extension": ".py",
   "mimetype": "text/x-python",
   "name": "python",
   "nbconvert_exporter": "python",
   "pygments_lexer": "ipython3",
   "version": "3.7.2"
  }
 },
 "nbformat": 4,
 "nbformat_minor": 2
}
